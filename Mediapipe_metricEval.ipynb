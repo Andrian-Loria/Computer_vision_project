{
 "cells": [
  {
   "cell_type": "code",
   "execution_count": 1,
   "metadata": {},
   "outputs": [],
   "source": [
    "import os\n",
    "import cv2\n",
    "import numpy as np\n",
    "from sklearn.metrics import precision_score, recall_score, f1_score, classification_report, confusion_matrix\n",
    "import mediapipe as mp\n",
    "import json"
   ]
  },
  {
   "cell_type": "code",
   "execution_count": 2,
   "metadata": {},
   "outputs": [],
   "source": [
    "ground_truth_file = 'ground_truth.json'\n",
    "with open(ground_truth_file, \"r\") as file:\n",
    "    ground_truth = json.load(file)"
   ]
  },
  {
   "cell_type": "code",
   "execution_count": 4,
   "metadata": {},
   "outputs": [
    {
     "name": "stderr",
     "output_type": "stream",
     "text": [
      "C:\\Users\\andrian\\AppData\\Roaming\\Python\\Python310\\site-packages\\google\\protobuf\\symbol_database.py:55: UserWarning: SymbolDatabase.GetPrototype() is deprecated. Please use message_factory.GetMessageClass() instead. SymbolDatabase.GetPrototype() will be removed soon.\n",
      "  warnings.warn('SymbolDatabase.GetPrototype() is deprecated. Please '\n"
     ]
    },
    {
     "name": "stdout",
     "output_type": "stream",
     "text": [
      "=========================================================\n",
      "Total Frames: 100\n",
      "Detected Frames: 56\n",
      "=========================================================\n",
      "Detection Rate : 56.00%\n",
      "=========================================================\n",
      "Precision: 0.86\n",
      "Recall: 0.96\n",
      "F1 Score: 0.91\n",
      "=========================================================\n",
      "Classification Report:\n",
      "              precision    recall  f1-score   support\n",
      "\n",
      "           0       0.95      0.84      0.89        50\n",
      "           1       0.86      0.96      0.91        50\n",
      "\n",
      "    accuracy                           0.90       100\n",
      "   macro avg       0.91      0.90      0.90       100\n",
      "weighted avg       0.91      0.90      0.90       100\n",
      "\n",
      "=========================================================\n"
     ]
    }
   ],
   "source": [
    "mp_hands = mp.solutions.hands\n",
    "hands = mp_hands.Hands(static_image_mode=True, max_num_hands=2, min_detection_confidence=0.5)\n",
    "\n",
    "folder_path = \"Dataset/Mix/\"\n",
    "failed_frames = []\n",
    "distances = []\n",
    "\n",
    "total_frames = 0\n",
    "detected_frames = 0\n",
    "\n",
    "y_true = []\n",
    "y_pred = []\n",
    "\n",
    "for image_file in os.listdir(folder_path):\n",
    "    image_path = os.path.join(folder_path, image_file)\n",
    "    image = cv2.imread(image_path)\n",
    "    if image is None:\n",
    "        continue\n",
    "    \n",
    "    total_frames += 1\n",
    "    image_rgb = cv2.cvtColor(image, cv2.COLOR_BGR2RGB)\n",
    "    results = hands.process(image_rgb)\n",
    "    \n",
    "    true_label = ground_truth.get(image_file, 0)\n",
    "    y_true.append(true_label)\n",
    "\n",
    "    if not results.multi_hand_landmarks:\n",
    "        y_pred.append(0)\n",
    "        failed_frames.append(image_file)\n",
    "    elif results.multi_hand_landmarks:\n",
    "        y_pred.append(1)\n",
    "        detected_frames += 1\n",
    "\n",
    "# Calculate classification metrics\n",
    "precision = precision_score(y_true, y_pred)\n",
    "recall = recall_score(y_true, y_pred)\n",
    "f1 = f1_score(y_true, y_pred)\n",
    "report = classification_report(y_true, y_pred)\n",
    "\n",
    "print(\"=========================================================\")\n",
    "print(f\"Total Frames: {total_frames}\")\n",
    "print(f\"Detected Frames: {detected_frames}\")\n",
    "print(\"=========================================================\")\n",
    "print(f\"Detection Rate : {detected_frames / total_frames * 100:.2f}%\")\n",
    "print(\"=========================================================\")\n",
    "print(f\"Precision: {precision:.2f}\")\n",
    "print(f\"Recall: {recall:.2f}\")\n",
    "print(f\"F1 Score: {f1:.2f}\")\n",
    "print(\"=========================================================\")\n",
    "print(\"Classification Report:\")\n",
    "print(report)\n",
    "print(\"=========================================================\")"
   ]
  },
  {
   "cell_type": "code",
   "execution_count": null,
   "metadata": {},
   "outputs": [],
   "source": []
  }
 ],
 "metadata": {
  "kernelspec": {
   "display_name": "Python 3",
   "language": "python",
   "name": "python3"
  },
  "language_info": {
   "codemirror_mode": {
    "name": "ipython",
    "version": 3
   },
   "file_extension": ".py",
   "mimetype": "text/x-python",
   "name": "python",
   "nbconvert_exporter": "python",
   "pygments_lexer": "ipython3",
   "version": "3.10.0"
  }
 },
 "nbformat": 4,
 "nbformat_minor": 2
}
